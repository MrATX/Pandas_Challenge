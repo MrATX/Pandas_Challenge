{
 "cells": [
  {
   "cell_type": "code",
   "execution_count": 81,
   "metadata": {},
   "outputs": [],
   "source": [
    "import pandas as pd\n",
    "filepath = \"Resources/purchase_data.csv\"\n",
    "game = pd.read_csv(filepath)\n",
    "#game.head(25)"
   ]
  },
  {
   "cell_type": "code",
   "execution_count": 55,
   "metadata": {},
   "outputs": [
    {
     "data": {
      "text/html": [
       "<div>\n",
       "<style scoped>\n",
       "    .dataframe tbody tr th:only-of-type {\n",
       "        vertical-align: middle;\n",
       "    }\n",
       "\n",
       "    .dataframe tbody tr th {\n",
       "        vertical-align: top;\n",
       "    }\n",
       "\n",
       "    .dataframe thead th {\n",
       "        text-align: right;\n",
       "    }\n",
       "</style>\n",
       "<table border=\"1\" class=\"dataframe\">\n",
       "  <thead>\n",
       "    <tr style=\"text-align: right;\">\n",
       "      <th></th>\n",
       "      <th>Total Players</th>\n",
       "    </tr>\n",
       "  </thead>\n",
       "  <tbody>\n",
       "    <tr>\n",
       "      <th>0</th>\n",
       "      <td>576</td>\n",
       "    </tr>\n",
       "  </tbody>\n",
       "</table>\n",
       "</div>"
      ],
      "text/plain": [
       "   Total Players\n",
       "0            576"
      ]
     },
     "execution_count": 55,
     "metadata": {},
     "output_type": "execute_result"
    }
   ],
   "source": [
    "totalN = pd.DataFrame({\"Total Players\":[len(game[\"SN\"].unique())]})\n",
    "totalN"
   ]
  },
  {
   "cell_type": "code",
   "execution_count": 59,
   "metadata": {},
   "outputs": [
    {
     "data": {
      "text/html": [
       "<style  type=\"text/css\" >\n",
       "</style><table id=\"T_78ed3fb8_c90b_11ea_a339_3497f69db8a1\" ><thead>    <tr>        <th class=\"blank level0\" ></th>        <th class=\"col_heading level0 col0\" >Number of Unique Items</th>        <th class=\"col_heading level0 col1\" >Average Price</th>        <th class=\"col_heading level0 col2\" >Number of Purchases</th>        <th class=\"col_heading level0 col3\" >Total Revenue</th>    </tr></thead><tbody>\n",
       "                <tr>\n",
       "                        <th id=\"T_78ed3fb8_c90b_11ea_a339_3497f69db8a1level0_row0\" class=\"row_heading level0 row0\" >0</th>\n",
       "                        <td id=\"T_78ed3fb8_c90b_11ea_a339_3497f69db8a1row0_col0\" class=\"data row0 col0\" >183</td>\n",
       "                        <td id=\"T_78ed3fb8_c90b_11ea_a339_3497f69db8a1row0_col1\" class=\"data row0 col1\" >$3.05</td>\n",
       "                        <td id=\"T_78ed3fb8_c90b_11ea_a339_3497f69db8a1row0_col2\" class=\"data row0 col2\" >780</td>\n",
       "                        <td id=\"T_78ed3fb8_c90b_11ea_a339_3497f69db8a1row0_col3\" class=\"data row0 col3\" >$2,379.77</td>\n",
       "            </tr>\n",
       "    </tbody></table>"
      ],
      "text/plain": [
       "<pandas.io.formats.style.Styler at 0x1d92f53f160>"
      ]
     },
     "execution_count": 59,
     "metadata": {},
     "output_type": "execute_result"
    }
   ],
   "source": [
    "purch = pd.DataFrame({\n",
    "    \"Number of Unique Items\":[len(game[\"Item ID\"].unique())],\n",
    "    \"Average Price\":[game[\"Price\"].mean()],\n",
    "    \"Number of Purchases\":[len(game.index)],\n",
    "    \"Total Revenue\":[game[\"Price\"].sum()],\n",
    "})\n",
    "purch = purch.style.format({\n",
    "    \"Average Price\":\"${:0,.2f}\",\n",
    "    \"Total Revenue\":\"${:0,.2f}\"\n",
    "})\n",
    "purch"
   ]
  },
  {
   "cell_type": "code",
   "execution_count": 50,
   "metadata": {},
   "outputs": [
    {
     "data": {
      "text/html": [
       "<style  type=\"text/css\" >\n",
       "</style><table id=\"T_dfaedbee_c90a_11ea_8a16_3497f69db8a1\" ><thead>    <tr>        <th class=\"blank level0\" ></th>        <th class=\"col_heading level0 col0\" >Total Count</th>        <th class=\"col_heading level0 col1\" >Percentage of Players</th>    </tr>    <tr>        <th class=\"index_name level0\" >Gender</th>        <th class=\"blank\" ></th>        <th class=\"blank\" ></th>    </tr></thead><tbody>\n",
       "                <tr>\n",
       "                        <th id=\"T_dfaedbee_c90a_11ea_8a16_3497f69db8a1level0_row0\" class=\"row_heading level0 row0\" >Female</th>\n",
       "                        <td id=\"T_dfaedbee_c90a_11ea_8a16_3497f69db8a1row0_col0\" class=\"data row0 col0\" >81</td>\n",
       "                        <td id=\"T_dfaedbee_c90a_11ea_8a16_3497f69db8a1row0_col1\" class=\"data row0 col1\" >14.06%</td>\n",
       "            </tr>\n",
       "            <tr>\n",
       "                        <th id=\"T_dfaedbee_c90a_11ea_8a16_3497f69db8a1level0_row1\" class=\"row_heading level0 row1\" >Male</th>\n",
       "                        <td id=\"T_dfaedbee_c90a_11ea_8a16_3497f69db8a1row1_col0\" class=\"data row1 col0\" >484</td>\n",
       "                        <td id=\"T_dfaedbee_c90a_11ea_8a16_3497f69db8a1row1_col1\" class=\"data row1 col1\" >84.03%</td>\n",
       "            </tr>\n",
       "            <tr>\n",
       "                        <th id=\"T_dfaedbee_c90a_11ea_8a16_3497f69db8a1level0_row2\" class=\"row_heading level0 row2\" >Other / Non-Disclosed</th>\n",
       "                        <td id=\"T_dfaedbee_c90a_11ea_8a16_3497f69db8a1row2_col0\" class=\"data row2 col0\" >11</td>\n",
       "                        <td id=\"T_dfaedbee_c90a_11ea_8a16_3497f69db8a1row2_col1\" class=\"data row2 col1\" >1.91%</td>\n",
       "            </tr>\n",
       "    </tbody></table>"
      ],
      "text/plain": [
       "<pandas.io.formats.style.Styler at 0x1d92a2c5358>"
      ]
     },
     "execution_count": 50,
     "metadata": {},
     "output_type": "execute_result"
    }
   ],
   "source": [
    "gendemoTC = game.groupby([\"Gender\"])[[\"SN\"]].nunique()\n",
    "gendemoPC = game.groupby([\"Gender\"])[[\"SN\"]].nunique()\n",
    "gendemo = pd.merge(gendemoTC,gendemoPC,on=[\"Gender\"])\n",
    "gendemo[\"SN_y\"]=(gendemo[\"SN_y\"]/(len(game[\"SN\"].unique())))*100\n",
    "gendemo.rename(columns={\"SN_x\":\"Total Count\",\n",
    "    \"SN_y\":\"Percentage of Players\"},inplace=True)\n",
    "gendemo = gendemo.style.format({\n",
    "    \"Percentage of Players\":\"{:0,.2f}%\"\n",
    "})\n",
    "gendemo"
   ]
  },
  {
   "cell_type": "code",
   "execution_count": 76,
   "metadata": {},
   "outputs": [
    {
     "data": {
      "text/html": [
       "<style  type=\"text/css\" >\n",
       "</style><table id=\"T_c78aa406_c90c_11ea_bcf6_3497f69db8a1\" ><thead>    <tr>        <th class=\"blank level0\" ></th>        <th class=\"col_heading level0 col0\" >Purchase Count</th>        <th class=\"col_heading level0 col1\" >Average Purchase Price</th>        <th class=\"col_heading level0 col2\" >Total Purchase Value</th>        <th class=\"col_heading level0 col3\" >Avg Total Purchase per Person</th>    </tr>    <tr>        <th class=\"index_name level0\" >Gender</th>        <th class=\"blank\" ></th>        <th class=\"blank\" ></th>        <th class=\"blank\" ></th>        <th class=\"blank\" ></th>    </tr></thead><tbody>\n",
       "                <tr>\n",
       "                        <th id=\"T_c78aa406_c90c_11ea_bcf6_3497f69db8a1level0_row0\" class=\"row_heading level0 row0\" >Female</th>\n",
       "                        <td id=\"T_c78aa406_c90c_11ea_bcf6_3497f69db8a1row0_col0\" class=\"data row0 col0\" >113</td>\n",
       "                        <td id=\"T_c78aa406_c90c_11ea_bcf6_3497f69db8a1row0_col1\" class=\"data row0 col1\" >$3.20</td>\n",
       "                        <td id=\"T_c78aa406_c90c_11ea_bcf6_3497f69db8a1row0_col2\" class=\"data row0 col2\" >$361.94</td>\n",
       "                        <td id=\"T_c78aa406_c90c_11ea_bcf6_3497f69db8a1row0_col3\" class=\"data row0 col3\" >$4.47</td>\n",
       "            </tr>\n",
       "            <tr>\n",
       "                        <th id=\"T_c78aa406_c90c_11ea_bcf6_3497f69db8a1level0_row1\" class=\"row_heading level0 row1\" >Male</th>\n",
       "                        <td id=\"T_c78aa406_c90c_11ea_bcf6_3497f69db8a1row1_col0\" class=\"data row1 col0\" >652</td>\n",
       "                        <td id=\"T_c78aa406_c90c_11ea_bcf6_3497f69db8a1row1_col1\" class=\"data row1 col1\" >$3.02</td>\n",
       "                        <td id=\"T_c78aa406_c90c_11ea_bcf6_3497f69db8a1row1_col2\" class=\"data row1 col2\" >$1,967.64</td>\n",
       "                        <td id=\"T_c78aa406_c90c_11ea_bcf6_3497f69db8a1row1_col3\" class=\"data row1 col3\" >$4.07</td>\n",
       "            </tr>\n",
       "            <tr>\n",
       "                        <th id=\"T_c78aa406_c90c_11ea_bcf6_3497f69db8a1level0_row2\" class=\"row_heading level0 row2\" >Other / Non-Disclosed</th>\n",
       "                        <td id=\"T_c78aa406_c90c_11ea_bcf6_3497f69db8a1row2_col0\" class=\"data row2 col0\" >15</td>\n",
       "                        <td id=\"T_c78aa406_c90c_11ea_bcf6_3497f69db8a1row2_col1\" class=\"data row2 col1\" >$3.35</td>\n",
       "                        <td id=\"T_c78aa406_c90c_11ea_bcf6_3497f69db8a1row2_col2\" class=\"data row2 col2\" >$50.19</td>\n",
       "                        <td id=\"T_c78aa406_c90c_11ea_bcf6_3497f69db8a1row2_col3\" class=\"data row2 col3\" >$4.56</td>\n",
       "            </tr>\n",
       "    </tbody></table>"
      ],
      "text/plain": [
       "<pandas.io.formats.style.Styler at 0x1d92f5330f0>"
      ]
     },
     "execution_count": 76,
     "metadata": {},
     "output_type": "execute_result"
    }
   ],
   "source": [
    "genpurchPC = game.groupby([\"Gender\"])[[\"Purchase ID\"]].count()\n",
    "genpurchAPP = game.groupby([\"Gender\"])[[\"Price\"]].mean()\n",
    "genpurchTPV = game.groupby([\"Gender\"])[[\"Price\"]].sum()\n",
    "genpurchATPP = game.groupby([\"Gender\"])[[\"SN\"]].nunique()\n",
    "\n",
    "genpurch = pd.merge(genpurchPC,genpurchAPP,on=[\"Gender\"])\n",
    "genpurch = pd.merge(genpurch,genpurchTPV,on=[\"Gender\"])\n",
    "genpurch = pd.merge(genpurch,genpurchATPP,on=[\"Gender\"])\n",
    "\n",
    "genpurch[\"SN\"]=genpurch[\"Price_y\"]/genpurch[\"SN\"]\n",
    "\n",
    "genpurch.rename(columns={\n",
    "    \"Purchase ID\":\"Purchase Count\",\n",
    "    \"Price_x\":\"Average Purchase Price\",\n",
    "    \"Price_y\":\"Total Purchase Value\",\n",
    "    \"SN\":\"Avg Total Purchase per Person\"}\n",
    "    ,inplace=True)\n",
    "\n",
    "genpurch = genpurch.style.format({\n",
    "    \"Average Purchase Price\":\"${:0,.2f}\",\n",
    "    \"Total Purchase Value\":\"${:0,.2f}\",\n",
    "    \"Avg Total Purchase per Person\":\"${:0,.2f}\"\n",
    "})\n",
    "\n",
    "genpurch"
   ]
  },
  {
   "cell_type": "code",
   "execution_count": 77,
   "metadata": {},
   "outputs": [
    {
     "data": {
      "text/html": [
       "<style  type=\"text/css\" >\n",
       "</style><table id=\"T_33f43f7e_c90d_11ea_9296_3497f69db8a1\" ><thead>    <tr>        <th class=\"blank level0\" ></th>        <th class=\"col_heading level0 col0\" >Total Count</th>        <th class=\"col_heading level0 col1\" >Percentage of Players</th>    </tr>    <tr>        <th class=\"index_name level0\" >Age Range</th>        <th class=\"blank\" ></th>        <th class=\"blank\" ></th>    </tr></thead><tbody>\n",
       "                <tr>\n",
       "                        <th id=\"T_33f43f7e_c90d_11ea_9296_3497f69db8a1level0_row0\" class=\"row_heading level0 row0\" ><10</th>\n",
       "                        <td id=\"T_33f43f7e_c90d_11ea_9296_3497f69db8a1row0_col0\" class=\"data row0 col0\" >17</td>\n",
       "                        <td id=\"T_33f43f7e_c90d_11ea_9296_3497f69db8a1row0_col1\" class=\"data row0 col1\" >2.95%</td>\n",
       "            </tr>\n",
       "            <tr>\n",
       "                        <th id=\"T_33f43f7e_c90d_11ea_9296_3497f69db8a1level0_row1\" class=\"row_heading level0 row1\" >10-14</th>\n",
       "                        <td id=\"T_33f43f7e_c90d_11ea_9296_3497f69db8a1row1_col0\" class=\"data row1 col0\" >22</td>\n",
       "                        <td id=\"T_33f43f7e_c90d_11ea_9296_3497f69db8a1row1_col1\" class=\"data row1 col1\" >3.82%</td>\n",
       "            </tr>\n",
       "            <tr>\n",
       "                        <th id=\"T_33f43f7e_c90d_11ea_9296_3497f69db8a1level0_row2\" class=\"row_heading level0 row2\" >15-19</th>\n",
       "                        <td id=\"T_33f43f7e_c90d_11ea_9296_3497f69db8a1row2_col0\" class=\"data row2 col0\" >107</td>\n",
       "                        <td id=\"T_33f43f7e_c90d_11ea_9296_3497f69db8a1row2_col1\" class=\"data row2 col1\" >18.58%</td>\n",
       "            </tr>\n",
       "            <tr>\n",
       "                        <th id=\"T_33f43f7e_c90d_11ea_9296_3497f69db8a1level0_row3\" class=\"row_heading level0 row3\" >20-24</th>\n",
       "                        <td id=\"T_33f43f7e_c90d_11ea_9296_3497f69db8a1row3_col0\" class=\"data row3 col0\" >258</td>\n",
       "                        <td id=\"T_33f43f7e_c90d_11ea_9296_3497f69db8a1row3_col1\" class=\"data row3 col1\" >44.79%</td>\n",
       "            </tr>\n",
       "            <tr>\n",
       "                        <th id=\"T_33f43f7e_c90d_11ea_9296_3497f69db8a1level0_row4\" class=\"row_heading level0 row4\" >25-29</th>\n",
       "                        <td id=\"T_33f43f7e_c90d_11ea_9296_3497f69db8a1row4_col0\" class=\"data row4 col0\" >77</td>\n",
       "                        <td id=\"T_33f43f7e_c90d_11ea_9296_3497f69db8a1row4_col1\" class=\"data row4 col1\" >13.37%</td>\n",
       "            </tr>\n",
       "            <tr>\n",
       "                        <th id=\"T_33f43f7e_c90d_11ea_9296_3497f69db8a1level0_row5\" class=\"row_heading level0 row5\" >30-34</th>\n",
       "                        <td id=\"T_33f43f7e_c90d_11ea_9296_3497f69db8a1row5_col0\" class=\"data row5 col0\" >52</td>\n",
       "                        <td id=\"T_33f43f7e_c90d_11ea_9296_3497f69db8a1row5_col1\" class=\"data row5 col1\" >9.03%</td>\n",
       "            </tr>\n",
       "            <tr>\n",
       "                        <th id=\"T_33f43f7e_c90d_11ea_9296_3497f69db8a1level0_row6\" class=\"row_heading level0 row6\" >35-39</th>\n",
       "                        <td id=\"T_33f43f7e_c90d_11ea_9296_3497f69db8a1row6_col0\" class=\"data row6 col0\" >31</td>\n",
       "                        <td id=\"T_33f43f7e_c90d_11ea_9296_3497f69db8a1row6_col1\" class=\"data row6 col1\" >5.38%</td>\n",
       "            </tr>\n",
       "            <tr>\n",
       "                        <th id=\"T_33f43f7e_c90d_11ea_9296_3497f69db8a1level0_row7\" class=\"row_heading level0 row7\" >40+</th>\n",
       "                        <td id=\"T_33f43f7e_c90d_11ea_9296_3497f69db8a1row7_col0\" class=\"data row7 col0\" >12</td>\n",
       "                        <td id=\"T_33f43f7e_c90d_11ea_9296_3497f69db8a1row7_col1\" class=\"data row7 col1\" >2.08%</td>\n",
       "            </tr>\n",
       "    </tbody></table>"
      ],
      "text/plain": [
       "<pandas.io.formats.style.Styler at 0x1d92f9a9b70>"
      ]
     },
     "execution_count": 77,
     "metadata": {},
     "output_type": "execute_result"
    }
   ],
   "source": [
    "TC = game.groupby([\"Age Range\"])[[\"SN\"]].nunique()\n",
    "Percent = game.groupby([\"Age Range\"])[[\"SN\"]].nunique()\n",
    "agedemo = pd.merge(TC,Percent,on=[\"Age Range\"])\n",
    "agedemo[\"SN_y\"]=(agedemo[\"SN_y\"]/len(game[\"SN\"].unique()))*100\n",
    "\n",
    "agedemo.rename(columns = {\"SN_x\":\"Total Count\",\"SN_y\":\"Percentage of Players\"},inplace=True)\n",
    "\n",
    "agedemo = agedemo.style.format({\n",
    "    \"Percentage of Players\":\"{:0,.2f}%\"\n",
    "})\n",
    "\n",
    "agedemo"
   ]
  },
  {
   "cell_type": "code",
   "execution_count": 79,
   "metadata": {},
   "outputs": [],
   "source": [
    "bins = [0,9,14,19,24,29,34,39,game[\"Age\"].max()]\n",
    "nameobins = [\"<10\",\"10-14\",\"15-19\",\"20-24\",\"25-29\",\"30-34\",\"35-39\",\"40+\"]\n",
    "game[\"Age Range\"] = pd.cut(game[\"Age\"],bins, labels=nameobins, include_lowest=True)"
   ]
  },
  {
   "cell_type": "code",
   "execution_count": 80,
   "metadata": {},
   "outputs": [
    {
     "data": {
      "text/html": [
       "<style  type=\"text/css\" >\n",
       "</style><table id=\"T_64e571e6_c90d_11ea_a32b_3497f69db8a1\" ><thead>    <tr>        <th class=\"blank level0\" ></th>        <th class=\"col_heading level0 col0\" >Purchase Count</th>        <th class=\"col_heading level0 col1\" >Average Purchase Price</th>        <th class=\"col_heading level0 col2\" >Total Purchase Value</th>        <th class=\"col_heading level0 col3\" >Avg Total Purchase per Person</th>    </tr>    <tr>        <th class=\"index_name level0\" >Age Range</th>        <th class=\"blank\" ></th>        <th class=\"blank\" ></th>        <th class=\"blank\" ></th>        <th class=\"blank\" ></th>    </tr></thead><tbody>\n",
       "                <tr>\n",
       "                        <th id=\"T_64e571e6_c90d_11ea_a32b_3497f69db8a1level0_row0\" class=\"row_heading level0 row0\" ><10</th>\n",
       "                        <td id=\"T_64e571e6_c90d_11ea_a32b_3497f69db8a1row0_col0\" class=\"data row0 col0\" >23</td>\n",
       "                        <td id=\"T_64e571e6_c90d_11ea_a32b_3497f69db8a1row0_col1\" class=\"data row0 col1\" >$                3.35</td>\n",
       "                        <td id=\"T_64e571e6_c90d_11ea_a32b_3497f69db8a1row0_col2\" class=\"data row0 col2\" >$               77.13</td>\n",
       "                        <td id=\"T_64e571e6_c90d_11ea_a32b_3497f69db8a1row0_col3\" class=\"data row0 col3\" >$                4.54</td>\n",
       "            </tr>\n",
       "            <tr>\n",
       "                        <th id=\"T_64e571e6_c90d_11ea_a32b_3497f69db8a1level0_row1\" class=\"row_heading level0 row1\" >10-14</th>\n",
       "                        <td id=\"T_64e571e6_c90d_11ea_a32b_3497f69db8a1row1_col0\" class=\"data row1 col0\" >28</td>\n",
       "                        <td id=\"T_64e571e6_c90d_11ea_a32b_3497f69db8a1row1_col1\" class=\"data row1 col1\" >$                2.96</td>\n",
       "                        <td id=\"T_64e571e6_c90d_11ea_a32b_3497f69db8a1row1_col2\" class=\"data row1 col2\" >$               82.78</td>\n",
       "                        <td id=\"T_64e571e6_c90d_11ea_a32b_3497f69db8a1row1_col3\" class=\"data row1 col3\" >$                3.76</td>\n",
       "            </tr>\n",
       "            <tr>\n",
       "                        <th id=\"T_64e571e6_c90d_11ea_a32b_3497f69db8a1level0_row2\" class=\"row_heading level0 row2\" >15-19</th>\n",
       "                        <td id=\"T_64e571e6_c90d_11ea_a32b_3497f69db8a1row2_col0\" class=\"data row2 col0\" >136</td>\n",
       "                        <td id=\"T_64e571e6_c90d_11ea_a32b_3497f69db8a1row2_col1\" class=\"data row2 col1\" >$                3.04</td>\n",
       "                        <td id=\"T_64e571e6_c90d_11ea_a32b_3497f69db8a1row2_col2\" class=\"data row2 col2\" >$              412.89</td>\n",
       "                        <td id=\"T_64e571e6_c90d_11ea_a32b_3497f69db8a1row2_col3\" class=\"data row2 col3\" >$                3.86</td>\n",
       "            </tr>\n",
       "            <tr>\n",
       "                        <th id=\"T_64e571e6_c90d_11ea_a32b_3497f69db8a1level0_row3\" class=\"row_heading level0 row3\" >20-24</th>\n",
       "                        <td id=\"T_64e571e6_c90d_11ea_a32b_3497f69db8a1row3_col0\" class=\"data row3 col0\" >365</td>\n",
       "                        <td id=\"T_64e571e6_c90d_11ea_a32b_3497f69db8a1row3_col1\" class=\"data row3 col1\" >$                3.05</td>\n",
       "                        <td id=\"T_64e571e6_c90d_11ea_a32b_3497f69db8a1row3_col2\" class=\"data row3 col2\" >$            1,114.06</td>\n",
       "                        <td id=\"T_64e571e6_c90d_11ea_a32b_3497f69db8a1row3_col3\" class=\"data row3 col3\" >$                4.32</td>\n",
       "            </tr>\n",
       "            <tr>\n",
       "                        <th id=\"T_64e571e6_c90d_11ea_a32b_3497f69db8a1level0_row4\" class=\"row_heading level0 row4\" >25-29</th>\n",
       "                        <td id=\"T_64e571e6_c90d_11ea_a32b_3497f69db8a1row4_col0\" class=\"data row4 col0\" >101</td>\n",
       "                        <td id=\"T_64e571e6_c90d_11ea_a32b_3497f69db8a1row4_col1\" class=\"data row4 col1\" >$                2.90</td>\n",
       "                        <td id=\"T_64e571e6_c90d_11ea_a32b_3497f69db8a1row4_col2\" class=\"data row4 col2\" >$              293.00</td>\n",
       "                        <td id=\"T_64e571e6_c90d_11ea_a32b_3497f69db8a1row4_col3\" class=\"data row4 col3\" >$                3.81</td>\n",
       "            </tr>\n",
       "            <tr>\n",
       "                        <th id=\"T_64e571e6_c90d_11ea_a32b_3497f69db8a1level0_row5\" class=\"row_heading level0 row5\" >30-34</th>\n",
       "                        <td id=\"T_64e571e6_c90d_11ea_a32b_3497f69db8a1row5_col0\" class=\"data row5 col0\" >73</td>\n",
       "                        <td id=\"T_64e571e6_c90d_11ea_a32b_3497f69db8a1row5_col1\" class=\"data row5 col1\" >$                2.93</td>\n",
       "                        <td id=\"T_64e571e6_c90d_11ea_a32b_3497f69db8a1row5_col2\" class=\"data row5 col2\" >$              214.00</td>\n",
       "                        <td id=\"T_64e571e6_c90d_11ea_a32b_3497f69db8a1row5_col3\" class=\"data row5 col3\" >$                4.12</td>\n",
       "            </tr>\n",
       "            <tr>\n",
       "                        <th id=\"T_64e571e6_c90d_11ea_a32b_3497f69db8a1level0_row6\" class=\"row_heading level0 row6\" >35-39</th>\n",
       "                        <td id=\"T_64e571e6_c90d_11ea_a32b_3497f69db8a1row6_col0\" class=\"data row6 col0\" >41</td>\n",
       "                        <td id=\"T_64e571e6_c90d_11ea_a32b_3497f69db8a1row6_col1\" class=\"data row6 col1\" >$                3.60</td>\n",
       "                        <td id=\"T_64e571e6_c90d_11ea_a32b_3497f69db8a1row6_col2\" class=\"data row6 col2\" >$              147.67</td>\n",
       "                        <td id=\"T_64e571e6_c90d_11ea_a32b_3497f69db8a1row6_col3\" class=\"data row6 col3\" >$                4.76</td>\n",
       "            </tr>\n",
       "            <tr>\n",
       "                        <th id=\"T_64e571e6_c90d_11ea_a32b_3497f69db8a1level0_row7\" class=\"row_heading level0 row7\" >40+</th>\n",
       "                        <td id=\"T_64e571e6_c90d_11ea_a32b_3497f69db8a1row7_col0\" class=\"data row7 col0\" >13</td>\n",
       "                        <td id=\"T_64e571e6_c90d_11ea_a32b_3497f69db8a1row7_col1\" class=\"data row7 col1\" >$                2.94</td>\n",
       "                        <td id=\"T_64e571e6_c90d_11ea_a32b_3497f69db8a1row7_col2\" class=\"data row7 col2\" >$               38.24</td>\n",
       "                        <td id=\"T_64e571e6_c90d_11ea_a32b_3497f69db8a1row7_col3\" class=\"data row7 col3\" >$                3.19</td>\n",
       "            </tr>\n",
       "    </tbody></table>"
      ],
      "text/plain": [
       "<pandas.io.formats.style.Styler at 0x1d92f5339e8>"
      ]
     },
     "execution_count": 80,
     "metadata": {},
     "output_type": "execute_result"
    }
   ],
   "source": [
    "PC = game.groupby([\"Age Range\"])[[\"Purchase ID\"]].count()\n",
    "APP = game.groupby([\"Age Range\"])[[\"Price\"]].mean()\n",
    "TPV = game.groupby([\"Age Range\"])[[\"Price\"]].sum()\n",
    "personz = game.groupby([\"Age Range\"])[[\"SN\"]].nunique()\n",
    "\n",
    "ultima = pd.merge(PC,APP,on=[\"Age Range\"])\n",
    "ultima = pd.merge(ultima,TPV,on=[\"Age Range\"])\n",
    "ultima = pd.merge(ultima,personz,on=[\"Age Range\"])\n",
    "ultima[\"SN\"] = ultima[\"Price_y\"]/ultima[\"SN\"]\n",
    "\n",
    "ultima.rename(columns = {\"Purchase ID\":\"Purchase Count\",\"Price_x\":\"Average Purchase Price\",\"Price_y\":\"Total Purchase Value\",\"SN\":\"Avg Total Purchase per Person\"},inplace=True)\n",
    "\n",
    "ultima = ultima.style.format({\n",
    "    \"Average Purchase Price\":\"${:20,.2f}\",\n",
    "    \"Total Purchase Value\":\"${:20,.2f}\",\n",
    "    \"Avg Total Purchase per Person\":\"${:20,.2f}\"\n",
    "})\n",
    "\n",
    "ultima"
   ]
  },
  {
   "cell_type": "code",
   "execution_count": 85,
   "metadata": {},
   "outputs": [
    {
     "data": {
      "text/html": [
       "<style  type=\"text/css\" >\n",
       "</style><table id=\"T_ce33804c_c910_11ea_8f50_3497f69db8a1\" ><thead>    <tr>        <th class=\"blank level0\" ></th>        <th class=\"col_heading level0 col0\" >Purchase Count</th>        <th class=\"col_heading level0 col1\" >Average Purchase Price</th>        <th class=\"col_heading level0 col2\" >Total Purchase Value</th>    </tr>    <tr>        <th class=\"index_name level0\" >SN</th>        <th class=\"blank\" ></th>        <th class=\"blank\" ></th>        <th class=\"blank\" ></th>    </tr></thead><tbody>\n",
       "                <tr>\n",
       "                        <th id=\"T_ce33804c_c910_11ea_8f50_3497f69db8a1level0_row0\" class=\"row_heading level0 row0\" >Lisosia93</th>\n",
       "                        <td id=\"T_ce33804c_c910_11ea_8f50_3497f69db8a1row0_col0\" class=\"data row0 col0\" >5</td>\n",
       "                        <td id=\"T_ce33804c_c910_11ea_8f50_3497f69db8a1row0_col1\" class=\"data row0 col1\" >$                3.79</td>\n",
       "                        <td id=\"T_ce33804c_c910_11ea_8f50_3497f69db8a1row0_col2\" class=\"data row0 col2\" >$               18.96</td>\n",
       "            </tr>\n",
       "            <tr>\n",
       "                        <th id=\"T_ce33804c_c910_11ea_8f50_3497f69db8a1level0_row1\" class=\"row_heading level0 row1\" >Idastidru52</th>\n",
       "                        <td id=\"T_ce33804c_c910_11ea_8f50_3497f69db8a1row1_col0\" class=\"data row1 col0\" >4</td>\n",
       "                        <td id=\"T_ce33804c_c910_11ea_8f50_3497f69db8a1row1_col1\" class=\"data row1 col1\" >$                3.86</td>\n",
       "                        <td id=\"T_ce33804c_c910_11ea_8f50_3497f69db8a1row1_col2\" class=\"data row1 col2\" >$               15.45</td>\n",
       "            </tr>\n",
       "            <tr>\n",
       "                        <th id=\"T_ce33804c_c910_11ea_8f50_3497f69db8a1level0_row2\" class=\"row_heading level0 row2\" >Chamjask73</th>\n",
       "                        <td id=\"T_ce33804c_c910_11ea_8f50_3497f69db8a1row2_col0\" class=\"data row2 col0\" >3</td>\n",
       "                        <td id=\"T_ce33804c_c910_11ea_8f50_3497f69db8a1row2_col1\" class=\"data row2 col1\" >$                4.61</td>\n",
       "                        <td id=\"T_ce33804c_c910_11ea_8f50_3497f69db8a1row2_col2\" class=\"data row2 col2\" >$               13.83</td>\n",
       "            </tr>\n",
       "            <tr>\n",
       "                        <th id=\"T_ce33804c_c910_11ea_8f50_3497f69db8a1level0_row3\" class=\"row_heading level0 row3\" >Iral74</th>\n",
       "                        <td id=\"T_ce33804c_c910_11ea_8f50_3497f69db8a1row3_col0\" class=\"data row3 col0\" >4</td>\n",
       "                        <td id=\"T_ce33804c_c910_11ea_8f50_3497f69db8a1row3_col1\" class=\"data row3 col1\" >$                3.40</td>\n",
       "                        <td id=\"T_ce33804c_c910_11ea_8f50_3497f69db8a1row3_col2\" class=\"data row3 col2\" >$               13.62</td>\n",
       "            </tr>\n",
       "            <tr>\n",
       "                        <th id=\"T_ce33804c_c910_11ea_8f50_3497f69db8a1level0_row4\" class=\"row_heading level0 row4\" >Iskadarya95</th>\n",
       "                        <td id=\"T_ce33804c_c910_11ea_8f50_3497f69db8a1row4_col0\" class=\"data row4 col0\" >3</td>\n",
       "                        <td id=\"T_ce33804c_c910_11ea_8f50_3497f69db8a1row4_col1\" class=\"data row4 col1\" >$                4.37</td>\n",
       "                        <td id=\"T_ce33804c_c910_11ea_8f50_3497f69db8a1row4_col2\" class=\"data row4 col2\" >$               13.10</td>\n",
       "            </tr>\n",
       "    </tbody></table>"
      ],
      "text/plain": [
       "<pandas.io.formats.style.Styler at 0x1d92f9a9710>"
      ]
     },
     "execution_count": 85,
     "metadata": {},
     "output_type": "execute_result"
    }
   ],
   "source": [
    "spenderzC = game.groupby([\"SN\"])[[\"Purchase ID\"]].count()\n",
    "spenderzS = game.groupby([\"SN\"])[[\"Price\"]].mean()\n",
    "spenderzM = game.groupby([\"SN\"])[[\"Price\"]].sum()\n",
    "spenderz_merge = pd.merge(spenderzC,spenderzS,on=[\"SN\"])\n",
    "spenderz_merge = pd.merge(spenderz_merge,spenderzM,on=[\"SN\"])\n",
    "spenderz_merge = spenderz_merge.rename(columns = {\"Purchase ID\":\"Purchase Count\",\"Price_x\":\"Average Purchase Price\",\"Price_y\":\"Total Purchase Value\"})\n",
    "top5_spenderz = spenderz_merge.nlargest(5, \"Total Purchase Value\", keep='first')\n",
    "top5_spenderz = top5_spenderz.style.format({\n",
    "    \"Average Purchase Price\":\"${:20,.2f}\",\n",
    "    \"Total Purchase Value\":\"${:20,.2f}\"\n",
    "})\n",
    "top5_spenderz"
   ]
  },
  {
   "cell_type": "code",
   "execution_count": 88,
   "metadata": {},
   "outputs": [
    {
     "data": {
      "text/html": [
       "<style  type=\"text/css\" >\n",
       "</style><table id=\"T_147c0b46_c911_11ea_abb6_3497f69db8a1\" ><thead>    <tr>        <th class=\"blank\" ></th>        <th class=\"blank level0\" ></th>        <th class=\"col_heading level0 col0\" >Purchase Count</th>        <th class=\"col_heading level0 col1\" >Item Price</th>        <th class=\"col_heading level0 col2\" >Total Purchase Value</th>    </tr>    <tr>        <th class=\"index_name level0\" >Item ID</th>        <th class=\"index_name level1\" >Item Name</th>        <th class=\"blank\" ></th>        <th class=\"blank\" ></th>        <th class=\"blank\" ></th>    </tr></thead><tbody>\n",
       "                <tr>\n",
       "                        <th id=\"T_147c0b46_c911_11ea_abb6_3497f69db8a1level0_row0\" class=\"row_heading level0 row0\" >178</th>\n",
       "                        <th id=\"T_147c0b46_c911_11ea_abb6_3497f69db8a1level1_row0\" class=\"row_heading level1 row0\" >Oathbreaker, Last Hope of the Breaking Storm</th>\n",
       "                        <td id=\"T_147c0b46_c911_11ea_abb6_3497f69db8a1row0_col0\" class=\"data row0 col0\" >12</td>\n",
       "                        <td id=\"T_147c0b46_c911_11ea_abb6_3497f69db8a1row0_col1\" class=\"data row0 col1\" >$                4.23</td>\n",
       "                        <td id=\"T_147c0b46_c911_11ea_abb6_3497f69db8a1row0_col2\" class=\"data row0 col2\" >$               50.76</td>\n",
       "            </tr>\n",
       "            <tr>\n",
       "                        <th id=\"T_147c0b46_c911_11ea_abb6_3497f69db8a1level0_row1\" class=\"row_heading level0 row1\" >145</th>\n",
       "                        <th id=\"T_147c0b46_c911_11ea_abb6_3497f69db8a1level1_row1\" class=\"row_heading level1 row1\" >Fiery Glass Crusader</th>\n",
       "                        <td id=\"T_147c0b46_c911_11ea_abb6_3497f69db8a1row1_col0\" class=\"data row1 col0\" >9</td>\n",
       "                        <td id=\"T_147c0b46_c911_11ea_abb6_3497f69db8a1row1_col1\" class=\"data row1 col1\" >$                4.58</td>\n",
       "                        <td id=\"T_147c0b46_c911_11ea_abb6_3497f69db8a1row1_col2\" class=\"data row1 col2\" >$               41.22</td>\n",
       "            </tr>\n",
       "            <tr>\n",
       "                        <th id=\"T_147c0b46_c911_11ea_abb6_3497f69db8a1level0_row2\" class=\"row_heading level0 row2\" >108</th>\n",
       "                        <th id=\"T_147c0b46_c911_11ea_abb6_3497f69db8a1level1_row2\" class=\"row_heading level1 row2\" >Extraction, Quickblade Of Trembling Hands</th>\n",
       "                        <td id=\"T_147c0b46_c911_11ea_abb6_3497f69db8a1row2_col0\" class=\"data row2 col0\" >9</td>\n",
       "                        <td id=\"T_147c0b46_c911_11ea_abb6_3497f69db8a1row2_col1\" class=\"data row2 col1\" >$                3.53</td>\n",
       "                        <td id=\"T_147c0b46_c911_11ea_abb6_3497f69db8a1row2_col2\" class=\"data row2 col2\" >$               31.77</td>\n",
       "            </tr>\n",
       "            <tr>\n",
       "                        <th id=\"T_147c0b46_c911_11ea_abb6_3497f69db8a1level0_row3\" class=\"row_heading level0 row3\" >82</th>\n",
       "                        <th id=\"T_147c0b46_c911_11ea_abb6_3497f69db8a1level1_row3\" class=\"row_heading level1 row3\" >Nirvana</th>\n",
       "                        <td id=\"T_147c0b46_c911_11ea_abb6_3497f69db8a1row3_col0\" class=\"data row3 col0\" >9</td>\n",
       "                        <td id=\"T_147c0b46_c911_11ea_abb6_3497f69db8a1row3_col1\" class=\"data row3 col1\" >$                4.90</td>\n",
       "                        <td id=\"T_147c0b46_c911_11ea_abb6_3497f69db8a1row3_col2\" class=\"data row3 col2\" >$               44.10</td>\n",
       "            </tr>\n",
       "            <tr>\n",
       "                        <th id=\"T_147c0b46_c911_11ea_abb6_3497f69db8a1level0_row4\" class=\"row_heading level0 row4\" >19</th>\n",
       "                        <th id=\"T_147c0b46_c911_11ea_abb6_3497f69db8a1level1_row4\" class=\"row_heading level1 row4\" >Pursuit, Cudgel of Necromancy</th>\n",
       "                        <td id=\"T_147c0b46_c911_11ea_abb6_3497f69db8a1row4_col0\" class=\"data row4 col0\" >8</td>\n",
       "                        <td id=\"T_147c0b46_c911_11ea_abb6_3497f69db8a1row4_col1\" class=\"data row4 col1\" >$                1.02</td>\n",
       "                        <td id=\"T_147c0b46_c911_11ea_abb6_3497f69db8a1row4_col2\" class=\"data row4 col2\" >$                8.16</td>\n",
       "            </tr>\n",
       "    </tbody></table>"
      ],
      "text/plain": [
       "<pandas.io.formats.style.Styler at 0x1d92f53f780>"
      ]
     },
     "execution_count": 88,
     "metadata": {},
     "output_type": "execute_result"
    }
   ],
   "source": [
    "top5itemsC = game.groupby([\"Item ID\",\"Item Name\"])[[\"Purchase ID\"]].count()\n",
    "top5itemsM = game.groupby([\"Item ID\",\"Item Name\"])[[\"Price\"]].mean()\n",
    "top5itemsS = game.groupby([\"Item ID\",\"Item Name\"])[[\"Price\"]].sum()\n",
    "top5_merge = pd.merge(top5itemsC,top5itemsM,on=[\"Item ID\",\"Item Name\"])\n",
    "top5_merge = pd.merge(top5_merge,top5itemsS,on=[\"Item ID\",\"Item Name\"])\n",
    "top5_merge.rename(columns = {\"Purchase ID\":\"Purchase Count\",\"Price_x\":\"Item Price\",\"Price_y\":\"Total Purchase Value\"},inplace=True)\n",
    "pop_items = top5_merge.sort_values(by=['Purchase Count'],ascending=False).head(5)\n",
    "pop_items = pop_items.style.format({\n",
    "    \"Item Price\":\"${:20,.2f}\",\n",
    "    \"Total Purchase Value\":\"${:20,.2f}\",\n",
    "})\n",
    "pop_items"
   ]
  },
  {
   "cell_type": "code",
   "execution_count": 91,
   "metadata": {},
   "outputs": [
    {
     "data": {
      "text/html": [
       "<style  type=\"text/css\" >\n",
       "</style><table id=\"T_31dee4b4_c911_11ea_812c_3497f69db8a1\" ><thead>    <tr>        <th class=\"blank\" ></th>        <th class=\"blank level0\" ></th>        <th class=\"col_heading level0 col0\" >Purchase Count</th>        <th class=\"col_heading level0 col1\" >Item Price</th>        <th class=\"col_heading level0 col2\" >Total Purchase Value</th>    </tr>    <tr>        <th class=\"index_name level0\" >Item ID</th>        <th class=\"index_name level1\" >Item Name</th>        <th class=\"blank\" ></th>        <th class=\"blank\" ></th>        <th class=\"blank\" ></th>    </tr></thead><tbody>\n",
       "                <tr>\n",
       "                        <th id=\"T_31dee4b4_c911_11ea_812c_3497f69db8a1level0_row0\" class=\"row_heading level0 row0\" >178</th>\n",
       "                        <th id=\"T_31dee4b4_c911_11ea_812c_3497f69db8a1level1_row0\" class=\"row_heading level1 row0\" >Oathbreaker, Last Hope of the Breaking Storm</th>\n",
       "                        <td id=\"T_31dee4b4_c911_11ea_812c_3497f69db8a1row0_col0\" class=\"data row0 col0\" >12</td>\n",
       "                        <td id=\"T_31dee4b4_c911_11ea_812c_3497f69db8a1row0_col1\" class=\"data row0 col1\" >$                4.23</td>\n",
       "                        <td id=\"T_31dee4b4_c911_11ea_812c_3497f69db8a1row0_col2\" class=\"data row0 col2\" >$               50.76</td>\n",
       "            </tr>\n",
       "            <tr>\n",
       "                        <th id=\"T_31dee4b4_c911_11ea_812c_3497f69db8a1level0_row1\" class=\"row_heading level0 row1\" >82</th>\n",
       "                        <th id=\"T_31dee4b4_c911_11ea_812c_3497f69db8a1level1_row1\" class=\"row_heading level1 row1\" >Nirvana</th>\n",
       "                        <td id=\"T_31dee4b4_c911_11ea_812c_3497f69db8a1row1_col0\" class=\"data row1 col0\" >9</td>\n",
       "                        <td id=\"T_31dee4b4_c911_11ea_812c_3497f69db8a1row1_col1\" class=\"data row1 col1\" >$                4.90</td>\n",
       "                        <td id=\"T_31dee4b4_c911_11ea_812c_3497f69db8a1row1_col2\" class=\"data row1 col2\" >$               44.10</td>\n",
       "            </tr>\n",
       "            <tr>\n",
       "                        <th id=\"T_31dee4b4_c911_11ea_812c_3497f69db8a1level0_row2\" class=\"row_heading level0 row2\" >145</th>\n",
       "                        <th id=\"T_31dee4b4_c911_11ea_812c_3497f69db8a1level1_row2\" class=\"row_heading level1 row2\" >Fiery Glass Crusader</th>\n",
       "                        <td id=\"T_31dee4b4_c911_11ea_812c_3497f69db8a1row2_col0\" class=\"data row2 col0\" >9</td>\n",
       "                        <td id=\"T_31dee4b4_c911_11ea_812c_3497f69db8a1row2_col1\" class=\"data row2 col1\" >$                4.58</td>\n",
       "                        <td id=\"T_31dee4b4_c911_11ea_812c_3497f69db8a1row2_col2\" class=\"data row2 col2\" >$               41.22</td>\n",
       "            </tr>\n",
       "            <tr>\n",
       "                        <th id=\"T_31dee4b4_c911_11ea_812c_3497f69db8a1level0_row3\" class=\"row_heading level0 row3\" >92</th>\n",
       "                        <th id=\"T_31dee4b4_c911_11ea_812c_3497f69db8a1level1_row3\" class=\"row_heading level1 row3\" >Final Critic</th>\n",
       "                        <td id=\"T_31dee4b4_c911_11ea_812c_3497f69db8a1row3_col0\" class=\"data row3 col0\" >8</td>\n",
       "                        <td id=\"T_31dee4b4_c911_11ea_812c_3497f69db8a1row3_col1\" class=\"data row3 col1\" >$                4.88</td>\n",
       "                        <td id=\"T_31dee4b4_c911_11ea_812c_3497f69db8a1row3_col2\" class=\"data row3 col2\" >$               39.04</td>\n",
       "            </tr>\n",
       "            <tr>\n",
       "                        <th id=\"T_31dee4b4_c911_11ea_812c_3497f69db8a1level0_row4\" class=\"row_heading level0 row4\" >103</th>\n",
       "                        <th id=\"T_31dee4b4_c911_11ea_812c_3497f69db8a1level1_row4\" class=\"row_heading level1 row4\" >Singed Scalpel</th>\n",
       "                        <td id=\"T_31dee4b4_c911_11ea_812c_3497f69db8a1row4_col0\" class=\"data row4 col0\" >8</td>\n",
       "                        <td id=\"T_31dee4b4_c911_11ea_812c_3497f69db8a1row4_col1\" class=\"data row4 col1\" >$                4.35</td>\n",
       "                        <td id=\"T_31dee4b4_c911_11ea_812c_3497f69db8a1row4_col2\" class=\"data row4 col2\" >$               34.80</td>\n",
       "            </tr>\n",
       "    </tbody></table>"
      ],
      "text/plain": [
       "<pandas.io.formats.style.Styler at 0x1d92f954eb8>"
      ]
     },
     "execution_count": 91,
     "metadata": {},
     "output_type": "execute_result"
    }
   ],
   "source": [
    "prof_items = top5_merge.sort_values(by=['Total Purchase Value'],ascending=False).head(5)\n",
    "prof_items = prof_items.style.format({\n",
    "    \"Item Price\":\"${:20,.2f}\",\n",
    "    \"Total Purchase Value\":\"${:20,.2f}\",\n",
    "})\n",
    "prof_items"
   ]
  }
 ],
 "metadata": {
  "kernelspec": {
   "display_name": "Python 3",
   "language": "python",
   "name": "python3"
  },
  "language_info": {
   "codemirror_mode": {
    "name": "ipython",
    "version": 3
   },
   "file_extension": ".py",
   "mimetype": "text/x-python",
   "name": "python",
   "nbconvert_exporter": "python",
   "pygments_lexer": "ipython3",
   "version": "3.7.1"
  }
 },
 "nbformat": 4,
 "nbformat_minor": 4
}
